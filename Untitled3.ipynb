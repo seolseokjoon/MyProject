{
 "cells": [
  {
   "cell_type": "code",
   "execution_count": 1,
   "metadata": {},
   "outputs": [],
   "source": [
    "import numpy as np\n",
    "import cv2 as cv\n",
    "from matplotlib import pyplot as plt\n",
    "from skimage.exposure import rescale_intensity\n",
    "img = cv.imread('/home/socmgr/barack.jpeg')\n",
    "\n",
    "kernel = np.array([[-1,-1,-1],[-1,8,-1],[-1,-1,-1]])\n",
    "#kernel = np.array([[0,-1,0],[-1,5,-1],[0,-1,0]])\n",
    "#kernel = np.array([[0,0,0],[0,1,0],[0,0,0]])\n",
    "len(kernel)\n",
    "pad = int((len(kernel) - 1)/2)\n",
    "stride = 1"
   ]
  },
  {
   "cell_type": "code",
   "execution_count": 2,
   "metadata": {},
   "outputs": [],
   "source": [
    "def convolve(image, kernel, padding, stride):\n",
    "    (ih,iw,ch) = image.shape[:3]\n",
    "    (kh,kw) = kernel.shape[:2]\n",
    "    oh = int((ih+2*padding-kh)/stride)+1\n",
    "    ow = int((iw+2*padding-kw)/stride)+1\n",
    "    output = np.zeros((oh,ow,ch),dtype=\"float32\")\n",
    "    \n",
    "    for y in np.arange(0,oh):\n",
    "        for x in np.arange(0,ow):\n",
    "            for c in np.arange(0,ch):\n",
    "                result = 0\n",
    "                for h in np.arange(0,kh):\n",
    "                    for w in np.arange(0,kw):\n",
    "                        W = x*stride + w\n",
    "                        H = y*stride + h\n",
    "                        \n",
    "                        if W<iw and W>0 and H<ih and H>0:\n",
    "                            result = image[H,W,c]*kernel[h,w] + result\n",
    "                            \n",
    "                #if result > 255:\n",
    "                #    result = result-255\n",
    "                #elif result < 0:\n",
    "                #    result = result+255\n",
    "                \n",
    "                output[y,x,c] = result\n",
    "                \n",
    "                if output[y,x,c] > 256:\n",
    "                    output[y,x,c] = 255\n",
    "                elif output[y,x,c] < 0:\n",
    "                    output [y,x,c] = 0\n",
    "                \n",
    "    \n",
    "    #print(output[100][100])\n",
    "    #output = rescale_intensity(output, in_range=(0, 255))\n",
    "    #print(output[100][100])\n",
    "    #output = (output*255).astype(\"uint8\")\n",
    "    #print(output[100][100])\n",
    "                \n",
    "                \n",
    "    \n",
    "    return output"
   ]
  },
  {
   "cell_type": "code",
   "execution_count": null,
   "metadata": {},
   "outputs": [],
   "source": [
    "conv = convolve(img,kernel,pad,stride)\n",
    "conv = conv.astype(\"uint8\")\n",
    "\n",
    "cv.imshow('conv',conv)\n",
    "cv.waitKey(0)\n",
    "cv.destroyAllWindows()"
   ]
  }
 ],
 "metadata": {
  "kernelspec": {
   "display_name": "Python 3",
   "language": "python",
   "name": "python3"
  },
  "language_info": {
   "codemirror_mode": {
    "name": "ipython",
    "version": 3
   },
   "file_extension": ".py",
   "mimetype": "text/x-python",
   "name": "python",
   "nbconvert_exporter": "python",
   "pygments_lexer": "ipython3",
   "version": "3.5.2"
  }
 },
 "nbformat": 4,
 "nbformat_minor": 2
}
